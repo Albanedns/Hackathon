{
 "cells": [
  {
   "cell_type": "markdown",
   "metadata": {},
   "source": [
    "# Hackathon 1: descriptive statistics, estimation and bootstrapping\n",
    "\n",
    "This project illustrates the course LEPL1109 with an industrial applications of statistics. You will analyse the performance of wind farms located in the Walloon Brabant near Beauvechain and in the high Fens, close to Elsenborn. Each wind farm exploits 8 wind turbines. The kinetic power, noted Pk, (in watt) of one wind turbine is calculated with the formula \n",
    "\n",
    "Pk (W) = 0.5 x Rho x S x V^3\n",
    "\n",
    "Where \n",
    "\n",
    "S   : is the surface of the circle in square meters with a radius equal to the length of blades (32 m).\n",
    "Rho : is the air density (“masse volumique”). We consider here an average value of 1.2 kg/m^3\n",
    "V   : is the speed of wind in m/s.\n",
    "\n",
    "According to the Betz limit, only 59.3% of the kinetic energy from wind can be used to spin the turbine and generate electricity. In reality, turbines cannot reach the Betz limit, and the efficiency is estimated to 42% of the kinetic power. One wind turbine generates an electric power Pe = 0.42 x Pk. \n",
    "\n",
    "The wind turbins are stopped if the wind speed is above 90 km/h.\n",
    "\n",
    "The file “BeauvechainWind.csv” and “Elsenborn.csv” contains the average daily wind speeds, measured in km/h, at Beauvechain and  Elsenborn (source www. https://www.ecad.eu/)\n",
    "\n",
    "FILE FORMAT (MISSING VALUE CODE IS -9999):\n",
    "01-06 SOUID: Source identifier\n",
    "08-15 DATE : Date YYYYMMDD\n",
    "17-21 FG   : wind speed in 0.1 m/s\n",
    "23-27 Q_FG : Quality code for FG (0='valid'; 1='suspect'; 9='missing')\n",
    "\n",
    "\n",
    "## Report content\n",
    "\n",
    "•\tGrades are granted to the members whose names are in the Jupyter notebook. If your name doesn’t appear on the top of the notebook, you’ll get a 0, even though you are in a group on Moodle.\n",
    "\n",
    "•\tThe jupyter notebook must be compiled with printed results and next submitted via moodle. The absence of compiled results (or non-printed values) leads to a lower grade.\n",
    "\n",
    "## Report submission\n",
    "\n",
    "•\tDeadline, see moodle website. Submission after the deadline will not be accepted.\n",
    "\n",
    "•\tTo submit your report, go to the section “APP” on Moodle and the subsection “Soumission du rapport”. You can upload your work there. Once you are sure that it is your final version, click the button “Envoyer le devoir”. It is important that you don’t forget to click on this button ! \n",
    "\n",
    "•\tReports that have not been uploaded through Moodle will not be corrected.\n",
    "\n",
    "\n",
    "## Names and Noma of participants:\n",
    "\n",
    "Part. 1: \n",
    "\n",
    "Part. 2:\n",
    "\n",
    "Part. 3:\n",
    "\n",
    "Part. 4:\n"
   ]
  },
  {
   "cell_type": "markdown",
   "metadata": {},
   "source": [
    "------------------------------------------------------------------------------------------------------\n",
    "1.\tWrite a function computing the electric power capacity (in Mega Watts = 10^6 W), for the two wind farms using wind data from the 1/1/2017 to the 1/1/2021\n",
    "\n",
    "•\tDo not forget to set the production to zero if the wind speed is above 90 km. \n",
    "\n",
    "•\tTake care to converts units.\n",
    "\n",
    "•\tRemove all days with missing data (error code 1 or 9) for Beauvechain or Elsenborn\n",
    "\n",
    "------------------------------------------------------------------------------------------------------"
   ]
  },
  {
   "cell_type": "code",
   "execution_count": 85,
   "metadata": {},
   "outputs": [
    {
     "name": "stdout",
     "output_type": "stream",
     "text": [
      "list sorted !\n"
     ]
    }
   ],
   "source": [
    "import pandas as pd\n",
    "import numpy as np\n",
    "\n",
    "def cleanData(data_B,minDate,maxDate):\n",
    "    data_B = data_B[(data_B[\" Q_FG\"]==0)]\n",
    "    data_B = data_B[(data_B[\"    DATE\"]>=minDate)]\n",
    "    data_B = data_B[(data_B[\"    DATE\"]<=maxDate)]\n",
    "    return data_B\n",
    "\n",
    "# open and read data\n",
    "data_E = pd.read_csv(\"../database/Elsenborn.csv\", sep = ',')\n",
    "data_B = pd.read_csv(\"../database/Beauvechain.csv\", sep = ',')\n",
    "\n",
    "minDate = 20170101\n",
    "maxDate = 20210101\n",
    "\n",
    "# sort the database to remove wrong data\n",
    "data_B = cleanData(data_B,minDate,maxDate)\n",
    "data_E = cleanData(data_E, minDate, maxDate)\n",
    "\n",
    "print(\"list sorted !\")"
   ]
  },
  {
   "cell_type": "markdown",
   "metadata": {},
   "source": [
    "Comment briefly your results\n",
    "\n"
   ]
  },
  {
   "cell_type": "markdown",
   "metadata": {},
   "source": [
    "------------------------------------------------------------------------------------------------------------------------\n",
    "\n",
    "2.\tPlot histograms and box plots of electric power capacity (MW) from the 1/1/2017 to the 1/1/2021 (both sites). \n",
    "\n",
    "------------------------------------------------------------------------------------------------------------------------"
   ]
  },
  {
   "cell_type": "code",
   "execution_count": 86,
   "metadata": {},
   "outputs": [
    {
     "data": {
      "text/plain": [
       "<AxesSubplot:>"
      ]
     },
     "execution_count": 86,
     "metadata": {},
     "output_type": "execute_result"
    },
    {
     "data": {
      "image/png": "[encoded data removed]",
      "text/plain": [
       "<Figure size 640x480 with 1 Axes>"
      ]
     },
     "metadata": {},
     "output_type": "display_data"
    }
   ],
   "source": [
    "def histograme(data_B,seq):\n",
    "    return data_B.hist(bins = seq)\n",
    "\n",
    "biggest = data_B[\"   FG\"].max()\n",
    "histograme(data_B[\"   FG\"],biggest)"
   ]
  },
  {
   "cell_type": "markdown",
   "metadata": {},
   "source": [
    "------------------------------------------------------------------------------------------------------\n",
    "\n",
    "3.\tCompare the following statistics of both sites and draw a first conclusions\n",
    "\n",
    "•\tAverage and median powers for each farm (MW)\n",
    "\n",
    "•\tStandard deviations of powers, for each farm (MW)\n",
    "\n",
    "•\t5% and 95% percentiles of powers, for each farm (MW)\n",
    "\n",
    "The average and standard deviation of the total power capacities (Beauvechain + Elsenborn).\n",
    "\n",
    "------------------------------------------------------------------------------------------------------"
   ]
  },
  {
   "cell_type": "code",
   "execution_count": 87,
   "metadata": {},
   "outputs": [
    {
     "name": "stdout",
     "output_type": "stream",
     "text": [
      "                  average  median  Deviation  q = 95%  q = 5%\n",
      "0  Beauvechain  38.099862    33.0  19.900831    77.45    14.0\n",
      "1    Elsenborn  27.173455    24.0  14.671099    55.00     9.0\n",
      "2         both  32.689847    29.0  18.337677    68.00    10.0\n"
     ]
    }
   ],
   "source": [
    "def average(data):\n",
    "    return data.mean()\n",
    "\n",
    "\n",
    "def median(data):\n",
    "    return data.median()\n",
    "\n",
    "\n",
    "def sdDeviation(data):\n",
    "    return data.std()\n",
    "\n",
    "\n",
    "def insidePercent(data, percentiles):\n",
    "    return data.quantile(q=percentiles)\n",
    "\n",
    "\n",
    "data_B_FG = data_B[\"   FG\"]\n",
    "data_E_FG = data_E[\"   FG\"]\n",
    "data = {\n",
    "    \" \": [\"Beauvechain\", \"Elsenborn\", \"both\"],\n",
    "    \"average\": [average(data_B_FG), average(data_E_FG), average(pd.concat([data_E_FG, data_B_FG]))],\n",
    "    \"median\": [median(data_B_FG), median(data_E_FG), median(pd.concat([data_E_FG, data_B_FG]))],\n",
    "    \"Deviation\": [sdDeviation(data_B_FG), sdDeviation(data_E_FG), sdDeviation(pd.concat([data_E_FG, data_B_FG]))],\n",
    "    \"q = 95%\": [insidePercent(data_B_FG, 0.95), insidePercent(data_E_FG, 0.95), insidePercent(pd.concat([data_E_FG, data_B_FG]), 0.95)],\n",
    "    \"q = 5%\": [insidePercent(data_B_FG, 0.05), insidePercent(data_E_FG, 0.05), insidePercent(pd.concat([data_E_FG, data_B_FG]), 0.05)]\n",
    "}\n",
    "\n",
    "print(pd.DataFrame(data))\n"
   ]
  },
  {
   "cell_type": "markdown",
   "metadata": {},
   "source": [
    "Comment briefly your results\n",
    "\n"
   ]
  },
  {
   "cell_type": "markdown",
   "metadata": {},
   "source": [
    "\n",
    "------------------------------------------------------------------------------------------------------\n",
    "4.\tFit Gamma and Inverse Gaussian distributions to wind speeds (in Km/h) in Beauvechain and Elsenborn. Estimate their parameters by log-likelihood maximization (MLE). Which distribution is the best one? Compare the histograms of winds with the fitted pdf’s on the same plot.\n",
    "------------------------------------------------------------------------------------------------------"
   ]
  },
  {
   "cell_type": "code",
   "execution_count": 88,
   "metadata": {},
   "outputs": [],
   "source": [
    "# Code here, gamma distribution\n",
    "\n"
   ]
  },
  {
   "cell_type": "markdown",
   "metadata": {},
   "source": [
    "Comment briefly your results\n",
    "\n"
   ]
  },
  {
   "cell_type": "code",
   "execution_count": 89,
   "metadata": {},
   "outputs": [],
   "source": [
    "# Code here, inverse Gaussian\n",
    "\n"
   ]
  },
  {
   "cell_type": "markdown",
   "metadata": {},
   "source": [
    "Comment briefly your results\n"
   ]
  },
  {
   "cell_type": "markdown",
   "metadata": {},
   "source": [
    "------------------------------------------------------------------------------------------------------\n",
    "5.\tCompute numerically for both sites, the following statistics \n",
    "\n",
    "•\tExpected and median powers for each farm (MW)\n",
    "\n",
    "•\tStandard deviation of powers for each farm (MW)\n",
    "\n",
    "•\t5% and 95% percentiles of powers for each farm (MW)\n",
    "\n",
    "Use the best distributions fitted in Question 4 (not observed values)\n",
    "\n",
    "------------------------------------------------------------------------------------------------------"
   ]
  },
  {
   "cell_type": "code",
   "execution_count": 90,
   "metadata": {},
   "outputs": [
    {
     "name": "stdout",
     "output_type": "stream",
     "text": [
      "29\n",
      "                  average  median  Deviation  q = 95%  q = 5%\n",
      "0  Beauvechain  38.099862      33  19.893977       77      14\n",
      "1    Elsenborn  27.173455      24  14.665947       55       9\n",
      "2         both  32.689847      29  18.334488       68      10\n"
     ]
    }
   ],
   "source": [
    "def num_average(data):\n",
    "    return data.sum()/len(data)\n",
    "\n",
    "def num_median(data):\n",
    "    data = np.sort(data)\n",
    "    return data[int((len(data)-1)/2)]\n",
    "\n",
    "def num_sdDeviation(data):\n",
    "    moyenne = num_average(data)\n",
    "    result = np.square(data-moyenne)\n",
    "    result = np.sum(result)/len(data)\n",
    "    result = np.sqrt(result)\n",
    "    return result\n",
    "\n",
    "def num_insidePercent(data, percentiles):\n",
    "\n",
    "    data = np.sort(data)\n",
    "    return data[int((len(data)-1)*percentiles)]\n",
    "\n",
    "\n",
    "data = {\n",
    "    \" \": [\"Beauvechain\", \"Elsenborn\", \"both\"],\n",
    "    \"average\": [num_average(data_B_FG), num_average(data_E_FG), num_average(pd.concat([data_E_FG, data_B_FG]))],\n",
    "    \"median\": [num_median(data_B_FG), num_median(data_E_FG), num_median(pd.concat([data_E_FG, data_B_FG]))],\n",
    "    \"Deviation\": [num_sdDeviation(data_B_FG), num_sdDeviation(data_E_FG), num_sdDeviation(pd.concat([data_E_FG, data_B_FG]))],\n",
    "    \"q = 95%\": [num_insidePercent(data_B_FG, 0.95), num_insidePercent(data_E_FG, 0.95), num_insidePercent(pd.concat([data_E_FG, data_B_FG]), 0.95)],\n",
    "    \"q = 5%\": [num_insidePercent(data_B_FG, 0.05), num_insidePercent(data_E_FG, 0.05), num_insidePercent(pd.concat([data_E_FG, data_B_FG]), 0.05)]\n",
    "}\n",
    "\n",
    "print(pd.DataFrame(data))\n",
    "\n"
   ]
  },
  {
   "cell_type": "markdown",
   "metadata": {},
   "source": [
    "Comment briefly your results\n",
    "\n"
   ]
  },
  {
   "cell_type": "markdown",
   "metadata": {},
   "source": [
    "------------------------------------------------------------------------------------------------------\n",
    "\n",
    "6.\tSame question as Q.4 but this time, you fit the best distribution by the methods of moments MM, (in Python). Compare parameter estimates and plot pdf’s obtained by MLE and MM for both wind farms.\n",
    "\n",
    "------------------------------------------------------------------------------------------------------"
   ]
  },
  {
   "cell_type": "code",
   "execution_count": 91,
   "metadata": {
    "scrolled": true
   },
   "outputs": [],
   "source": [
    "#code here\n",
    "\n"
   ]
  },
  {
   "cell_type": "markdown",
   "metadata": {},
   "source": [
    "------------------------------------------------------------------------------------------------------\n",
    "\n",
    "7.\tBootstrap 1000 times a sample of 500 daily speeds of wind for both wind farms and compute a 5% confidence interval for parameter(s) estimates for the best distribution of Question 4) modelling winds in Beauvechain. How do you interpret the results\n",
    "\n",
    "------------------------------------------------------------------------------------------------------"
   ]
  },
  {
   "cell_type": "code",
   "execution_count": 92,
   "metadata": {},
   "outputs": [],
   "source": [
    "#code here\n",
    "\n"
   ]
  },
  {
   "cell_type": "markdown",
   "metadata": {},
   "source": [
    "Comment briefly your results\n",
    "\n"
   ]
  },
  {
   "cell_type": "markdown",
   "metadata": {},
   "source": [
    "------------------------------------------------------------------------------------------------------\n",
    "\n",
    "8.\tLet us denote by X the wind speed observed at Beauvechain on a day of the year. The winds observed over 30 days are denoted by (X1,…,X30). They are realizations of X, a random variable with the distribution fitted in Question 4. If M=max{ X1,…,X30},  \n",
    "\n",
    "•\tfind the statistical law of M (equation requested, hint use the cdf of X) \n",
    "\n",
    "•\tplot the pdf and cdf of M. \n",
    "\n",
    "•\tDetermine the wind value, p5, such that  P(M>p5)=95%.\n",
    "\n",
    "\n",
    "------------------------------------------------------------------------------------------------------"
   ]
  },
  {
   "cell_type": "markdown",
   "metadata": {},
   "source": [
    "Comment briefly your results\n",
    "\n"
   ]
  },
  {
   "cell_type": "code",
   "execution_count": 93,
   "metadata": {},
   "outputs": [],
   "source": [
    "# Code here\n",
    "\n"
   ]
  }
 ],
 "metadata": {
  "kernelspec": {
   "display_name": "Python 3.7.4 32-bit",
   "language": "python",
   "name": "python3"
  },
  "language_info": {
   "codemirror_mode": {
    "name": "ipython",
    "version": 3
   },
   "file_extension": ".py",
   "mimetype": "text/x-python",
   "name": "python",
   "nbconvert_exporter": "python",
   "pygments_lexer": "ipython3",
   "version": "3.7.4"
  },
  "vscode": {
   "interpreter": {
    "hash": "4ec9b7cb269b2be6411dccd1037fd8f8693d60f9813a7f043f31fcdac85d0a50"
   }
  }
 },
 "nbformat": 4,
 "nbformat_minor": 4
}
